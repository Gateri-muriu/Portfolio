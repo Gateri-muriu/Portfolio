{
 "cells": [
  {
   "cell_type": "code",
   "execution_count": 1,
   "id": "a0dbc26e",
   "metadata": {},
   "outputs": [],
   "source": [
    "#import libraries\n",
    "import pandas as pd\n",
    "import yfinance as yf"
   ]
  },
  {
   "cell_type": "code",
   "execution_count": 2,
   "id": "c35f3cbf",
   "metadata": {},
   "outputs": [
    {
     "data": {
      "text/plain": [
       "yfinance.Ticker object <BTC>"
      ]
     },
     "execution_count": 2,
     "metadata": {},
     "output_type": "execute_result"
    }
   ],
   "source": [
    "bitcoin = yf.Ticker('BTC')\n",
    "bitcoin"
   ]
  },
  {
   "cell_type": "code",
   "execution_count": 4,
   "id": "1b436e91",
   "metadata": {},
   "outputs": [],
   "source": [
    "bitcoin_share_price_data=bitcoin.history(period='max')"
   ]
  },
  {
   "cell_type": "code",
   "execution_count": 5,
   "id": "213a54af",
   "metadata": {},
   "outputs": [
    {
     "data": {
      "text/html": [
       "<div>\n",
       "<style scoped>\n",
       "    .dataframe tbody tr th:only-of-type {\n",
       "        vertical-align: middle;\n",
       "    }\n",
       "\n",
       "    .dataframe tbody tr th {\n",
       "        vertical-align: top;\n",
       "    }\n",
       "\n",
       "    .dataframe thead th {\n",
       "        text-align: right;\n",
       "    }\n",
       "</style>\n",
       "<table border=\"1\" class=\"dataframe\">\n",
       "  <thead>\n",
       "    <tr style=\"text-align: right;\">\n",
       "      <th></th>\n",
       "      <th>Open</th>\n",
       "      <th>High</th>\n",
       "      <th>Low</th>\n",
       "      <th>Close</th>\n",
       "      <th>Volume</th>\n",
       "      <th>Dividends</th>\n",
       "      <th>Stock Splits</th>\n",
       "      <th>Capital Gains</th>\n",
       "    </tr>\n",
       "    <tr>\n",
       "      <th>Date</th>\n",
       "      <th></th>\n",
       "      <th></th>\n",
       "      <th></th>\n",
       "      <th></th>\n",
       "      <th></th>\n",
       "      <th></th>\n",
       "      <th></th>\n",
       "      <th></th>\n",
       "    </tr>\n",
       "  </thead>\n",
       "  <tbody>\n",
       "    <tr>\n",
       "      <th>2020-10-01 00:00:00-04:00</th>\n",
       "      <td>96.285767</td>\n",
       "      <td>96.285767</td>\n",
       "      <td>96.285767</td>\n",
       "      <td>96.285767</td>\n",
       "      <td>0</td>\n",
       "      <td>0.0</td>\n",
       "      <td>0.0</td>\n",
       "      <td>0.0</td>\n",
       "    </tr>\n",
       "    <tr>\n",
       "      <th>2020-10-02 00:00:00-04:00</th>\n",
       "      <td>96.285767</td>\n",
       "      <td>96.285767</td>\n",
       "      <td>96.285767</td>\n",
       "      <td>96.285767</td>\n",
       "      <td>0</td>\n",
       "      <td>0.0</td>\n",
       "      <td>0.0</td>\n",
       "      <td>0.0</td>\n",
       "    </tr>\n",
       "    <tr>\n",
       "      <th>2020-10-05 00:00:00-04:00</th>\n",
       "      <td>96.314656</td>\n",
       "      <td>96.324287</td>\n",
       "      <td>96.280960</td>\n",
       "      <td>96.280960</td>\n",
       "      <td>10725</td>\n",
       "      <td>0.0</td>\n",
       "      <td>0.0</td>\n",
       "      <td>0.0</td>\n",
       "    </tr>\n",
       "    <tr>\n",
       "      <th>2020-10-06 00:00:00-04:00</th>\n",
       "      <td>96.295413</td>\n",
       "      <td>96.314667</td>\n",
       "      <td>96.295413</td>\n",
       "      <td>96.314667</td>\n",
       "      <td>10080</td>\n",
       "      <td>0.0</td>\n",
       "      <td>0.0</td>\n",
       "      <td>0.0</td>\n",
       "    </tr>\n",
       "    <tr>\n",
       "      <th>2020-10-07 00:00:00-04:00</th>\n",
       "      <td>96.237625</td>\n",
       "      <td>96.247255</td>\n",
       "      <td>96.208740</td>\n",
       "      <td>96.208740</td>\n",
       "      <td>6350</td>\n",
       "      <td>0.0</td>\n",
       "      <td>0.0</td>\n",
       "      <td>0.0</td>\n",
       "    </tr>\n",
       "  </tbody>\n",
       "</table>\n",
       "</div>"
      ],
      "text/plain": [
       "                                Open       High        Low      Close  Volume  \\\n",
       "Date                                                                            \n",
       "2020-10-01 00:00:00-04:00  96.285767  96.285767  96.285767  96.285767       0   \n",
       "2020-10-02 00:00:00-04:00  96.285767  96.285767  96.285767  96.285767       0   \n",
       "2020-10-05 00:00:00-04:00  96.314656  96.324287  96.280960  96.280960   10725   \n",
       "2020-10-06 00:00:00-04:00  96.295413  96.314667  96.295413  96.314667   10080   \n",
       "2020-10-07 00:00:00-04:00  96.237625  96.247255  96.208740  96.208740    6350   \n",
       "\n",
       "                           Dividends  Stock Splits  Capital Gains  \n",
       "Date                                                               \n",
       "2020-10-01 00:00:00-04:00        0.0           0.0            0.0  \n",
       "2020-10-02 00:00:00-04:00        0.0           0.0            0.0  \n",
       "2020-10-05 00:00:00-04:00        0.0           0.0            0.0  \n",
       "2020-10-06 00:00:00-04:00        0.0           0.0            0.0  \n",
       "2020-10-07 00:00:00-04:00        0.0           0.0            0.0  "
      ]
     },
     "execution_count": 5,
     "metadata": {},
     "output_type": "execute_result"
    }
   ],
   "source": [
    "bitcoin_share_price_data.head()"
   ]
  },
  {
   "cell_type": "code",
   "execution_count": 6,
   "id": "02221b65",
   "metadata": {},
   "outputs": [],
   "source": [
    "bitcoin_share_price_data.reset_index(inplace=True)"
   ]
  },
  {
   "cell_type": "code",
   "execution_count": 7,
   "id": "2b1558c3",
   "metadata": {},
   "outputs": [
    {
     "data": {
      "text/plain": [
       "<AxesSubplot:xlabel='Date'>"
      ]
     },
     "execution_count": 7,
     "metadata": {},
     "output_type": "execute_result"
    },
    {
     "data": {
      "image/png": "[encoded data removed]",
      "text/plain": [
       "<Figure size 432x288 with 1 Axes>"
      ]
     },
     "metadata": {
      "needs_background": "light"
     },
     "output_type": "display_data"
    }
   ],
   "source": [
    "bitcoin_share_price_data.plot(x='Date', y='Open')"
   ]
  },
  {
   "cell_type": "code",
   "execution_count": 8,
   "id": "1454958e",
   "metadata": {},
   "outputs": [
    {
     "data": {
      "text/plain": [
       "Date\n",
       "2021-03-29 00:00:00-04:00    0.017208\n",
       "2021-06-28 00:00:00-04:00    0.029406\n",
       "2021-09-28 00:00:00-04:00    0.122461\n",
       "2021-12-15 00:00:00-05:00    0.073002\n",
       "2022-03-29 00:00:00-04:00    0.170991\n",
       "2022-06-28 00:00:00-04:00    0.079362\n",
       "2022-09-28 00:00:00-04:00    0.489064\n",
       "2022-12-21 00:00:00-05:00    0.364248\n",
       "2023-03-29 00:00:00-04:00    0.366845\n",
       "2023-06-28 00:00:00-04:00    0.168740\n",
       "2023-09-27 00:00:00-04:00    0.932416\n",
       "2023-12-27 00:00:00-05:00    0.651849\n",
       "Name: Dividends, dtype: float64"
      ]
     },
     "execution_count": 8,
     "metadata": {},
     "output_type": "execute_result"
    }
   ],
   "source": [
    "#divided\n",
    "bitcoin.dividends"
   ]
  },
  {
   "cell_type": "code",
   "execution_count": 9,
   "id": "b9469c35",
   "metadata": {},
   "outputs": [
    {
     "data": {
      "text/plain": [
       "<AxesSubplot:xlabel='Date'>"
      ]
     },
     "execution_count": 9,
     "metadata": {},
     "output_type": "execute_result"
    },
    {
     "data": {
      "image/png": "[encoded data removed]",
      "text/plain": [
       "<Figure size 432x288 with 1 Axes>"
      ]
     },
     "metadata": {
      "needs_background": "light"
     },
     "output_type": "display_data"
    }
   ],
   "source": [
    "bitcoin.dividends.plot()"
   ]
  },
  {
   "cell_type": "markdown",
   "id": "ceffeeba",
   "metadata": {},
   "source": [
    "#finding\n",
    "Observations from the plot, bitcoin dividends are low in the month of June from the year 2021 - 2023 and high in the month of September from the year 2021-2023.\n"
   ]
  },
  {
   "cell_type": "code",
   "execution_count": null,
   "id": "91a5c47e",
   "metadata": {},
   "outputs": [],
   "source": []
  },
  {
   "cell_type": "code",
   "execution_count": null,
   "id": "27a6518a",
   "metadata": {},
   "outputs": [],
   "source": []
  }
 ],
 "metadata": {
  "kernelspec": {
   "display_name": "Python 3 (ipykernel)",
   "language": "python",
   "name": "python3"
  },
  "language_info": {
   "codemirror_mode": {
    "name": "ipython",
    "version": 3
   },
   "file_extension": ".py",
   "mimetype": "text/x-python",
   "name": "python",
   "nbconvert_exporter": "python",
   "pygments_lexer": "ipython3",
   "version": "3.9.12"
  }
 },
 "nbformat": 4,
 "nbformat_minor": 5
}
